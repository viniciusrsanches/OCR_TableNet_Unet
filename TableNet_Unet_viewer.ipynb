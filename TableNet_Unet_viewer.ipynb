{
 "metadata": {
  "language_info": {
   "codemirror_mode": {
    "name": "ipython",
    "version": 3
   },
   "file_extension": ".py",
   "mimetype": "text/x-python",
   "name": "python",
   "nbconvert_exporter": "python",
   "pygments_lexer": "ipython3",
   "version": "3.8.10"
  },
  "orig_nbformat": 4,
  "kernelspec": {
   "name": "python3",
   "display_name": "Python 3.8.10 64-bit ('pytorch_gpu': conda)"
  },
  "interpreter": {
   "hash": "063bb5026d45afdfbbb52167c94ffd06c72b79353a3cd4dd43a928948c9df7c2"
  }
 },
 "nbformat": 4,
 "nbformat_minor": 2,
 "cells": [
  {
   "cell_type": "code",
   "execution_count": 1,
   "metadata": {},
   "outputs": [
    {
     "output_type": "stream",
     "name": "stderr",
     "text": [
      "GPU available: True, used: True\n",
      "TPU available: False, using: 0 TPU cores\n"
     ]
    }
   ],
   "source": [
    "from train import *\n",
    "\n"
   ]
  },
  {
   "cell_type": "code",
   "execution_count": 2,
   "metadata": {},
   "outputs": [
    {
     "output_type": "stream",
     "name": "stderr",
     "text": [
      "LOCAL_RANK: 0 - CUDA_VISIBLE_DEVICES: [0]\n",
      "Testing: 100%|██████████| 7/7 [00:11<00:00,  1.61s/it]\n",
      "--------------------------------------------------------------------------------\n",
      "DATALOADER:0 TEST RESULTS\n",
      "{'test_iou_column': 0.13493739068508148,\n",
      " 'test_iou_table': 0.16119350492954254,\n",
      " 'test_loss': 0.2696501314640045,\n",
      " 'test_loss_column': 0.16018706560134888,\n",
      " 'test_loss_table': 0.10946306586265564}\n",
      "--------------------------------------------------------------------------------\n"
     ]
    },
    {
     "output_type": "execute_result",
     "data": {
      "text/plain": [
       "[{'test_loss_table': 0.10946306586265564,\n",
       "  'test_loss_column': 0.16018706560134888,\n",
       "  'test_loss': 0.2696501314640045,\n",
       "  'test_iou_table': 0.16119350492954254,\n",
       "  'test_iou_column': 0.13493739068508148}]"
      ]
     },
     "metadata": {},
     "execution_count": 2
    }
   ],
   "source": [
    "model = TableNetModule.load_from_checkpoint(checkpoint_path='./epoch=122-step=6272.ckpt')\n",
    "trainer.test(model= model , datamodule=complaint_dataset)"
   ]
  },
  {
   "cell_type": "code",
   "execution_count": 3,
   "metadata": {},
   "outputs": [],
   "source": [
    "model = TableNetModule.load_from_checkpoint(checkpoint_path='./epoch=122-step=6272.ckpt')\n",
    "model.eval()\n",
    "batch_dataloader = complaint_dataset.test_dataloader()\n",
    "batch = next(iter(batch_dataloader))"
   ]
  },
  {
   "cell_type": "code",
   "execution_count": 5,
   "metadata": {},
   "outputs": [],
   "source": [
    "image , table , colum = batch\n",
    "out = model(image)\n"
   ]
  },
  {
   "cell_type": "code",
   "execution_count": 5,
   "metadata": {},
   "outputs": [],
   "source": [
    "\n"
   ]
  },
  {
   "cell_type": "code",
   "execution_count": 6,
   "metadata": {},
   "outputs": [],
   "source": [
    "from torchvision.transforms import ToPILImage\n",
    "trans_img = ToPILImage()\n",
    "trans_img(image[0]).show()\n",
    "trans_img(table[0]).show()\n",
    "trans_img(out[0,0]).show()\n",
    "trans_img(colum[0]).show()\n",
    "trans_img(out[0,1]).show()"
   ]
  },
  {
   "cell_type": "code",
   "execution_count": null,
   "metadata": {},
   "outputs": [],
   "source": []
  }
 ]
}